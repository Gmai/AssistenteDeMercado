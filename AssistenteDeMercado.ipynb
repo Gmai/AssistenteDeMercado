{
  "nbformat": 4,
  "nbformat_minor": 0,
  "metadata": {
    "colab": {
      "provenance": [],
      "authorship_tag": "ABX9TyPbrIG4JangsKjyxPK89qss",
      "include_colab_link": true
    },
    "kernelspec": {
      "name": "python3",
      "display_name": "Python 3"
    },
    "language_info": {
      "name": "python"
    },
    "widgets": {
      "application/vnd.jupyter.widget-state+json": {
        "ac0eeecee5e845fdb2c77aff43218be3": {
          "model_module": "@jupyter-widgets/controls",
          "model_name": "FileUploadModel",
          "model_module_version": "1.5.0",
          "state": {
            "_counter": 2,
            "_dom_classes": [],
            "_model_module": "@jupyter-widgets/controls",
            "_model_module_version": "1.5.0",
            "_model_name": "FileUploadModel",
            "_view_count": null,
            "_view_module": "@jupyter-widgets/controls",
            "_view_module_version": "1.5.0",
            "_view_name": "FileUploadView",
            "accept": "",
            "button_style": "",
            "data": [
              null
            ],
            "description": "Upload",
            "description_tooltip": null,
            "disabled": false,
            "error": "",
            "icon": "upload",
            "layout": "IPY_MODEL_6f0fa91b5e5146b78dd7e51676e6fefc",
            "metadata": [
              {
                "name": "WhatsApp Image 2024-05-11 at 00.23.34_4a2918c5.jpg",
                "type": "image/jpeg",
                "size": 214006,
                "lastModified": 1715397824288
              }
            ],
            "multiple": false,
            "style": "IPY_MODEL_7a57270150584be9afd9d0037ddee354"
          }
        },
        "6f0fa91b5e5146b78dd7e51676e6fefc": {
          "model_module": "@jupyter-widgets/base",
          "model_name": "LayoutModel",
          "model_module_version": "1.2.0",
          "state": {
            "_model_module": "@jupyter-widgets/base",
            "_model_module_version": "1.2.0",
            "_model_name": "LayoutModel",
            "_view_count": null,
            "_view_module": "@jupyter-widgets/base",
            "_view_module_version": "1.2.0",
            "_view_name": "LayoutView",
            "align_content": null,
            "align_items": null,
            "align_self": null,
            "border": null,
            "bottom": null,
            "display": null,
            "flex": null,
            "flex_flow": null,
            "grid_area": null,
            "grid_auto_columns": null,
            "grid_auto_flow": null,
            "grid_auto_rows": null,
            "grid_column": null,
            "grid_gap": null,
            "grid_row": null,
            "grid_template_areas": null,
            "grid_template_columns": null,
            "grid_template_rows": null,
            "height": null,
            "justify_content": null,
            "justify_items": null,
            "left": null,
            "margin": null,
            "max_height": null,
            "max_width": null,
            "min_height": null,
            "min_width": null,
            "object_fit": null,
            "object_position": null,
            "order": null,
            "overflow": null,
            "overflow_x": null,
            "overflow_y": null,
            "padding": null,
            "right": null,
            "top": null,
            "visibility": null,
            "width": null
          }
        },
        "7a57270150584be9afd9d0037ddee354": {
          "model_module": "@jupyter-widgets/controls",
          "model_name": "ButtonStyleModel",
          "model_module_version": "1.5.0",
          "state": {
            "_model_module": "@jupyter-widgets/controls",
            "_model_module_version": "1.5.0",
            "_model_name": "ButtonStyleModel",
            "_view_count": null,
            "_view_module": "@jupyter-widgets/base",
            "_view_module_version": "1.2.0",
            "_view_name": "StyleView",
            "button_color": null,
            "font_weight": ""
          }
        }
      }
    }
  },
  "cells": [
    {
      "cell_type": "markdown",
      "metadata": {
        "id": "view-in-github",
        "colab_type": "text"
      },
      "source": [
        "<a href=\"https://colab.research.google.com/github/Gmai/AssistenteDeMercado/blob/main/AssistenteDeMercado.ipynb\" target=\"_parent\"><img src=\"https://colab.research.google.com/assets/colab-badge.svg\" alt=\"Open In Colab\"/></a>"
      ]
    },
    {
      "cell_type": "markdown",
      "source": [
        "Este codigo e um MVP de um aplicativo em que voce informa o cardapio da sua semana e ele gera a lista de compras\n",
        "Em seguida e possivel tirar fotos da sua dispensa, geladeira, etc...\n",
        "E ele extrai os items das imagens e subtrai da lista de compra, gerando uma lista final de compras\n",
        "\n",
        "Importacoes"
      ],
      "metadata": {
        "id": "IMEtnGIjmei3"
      }
    },
    {
      "cell_type": "code",
      "source": [
        "\"\"\"\n",
        "At the command line, only need to run once to install the package via pip:\n",
        "\n",
        "$ pip install google-generativeai\n",
        "\"\"\"\n",
        "from ipywidgets import FileUpload\n",
        "from pathlib import Path\n",
        "import hashlib\n",
        "import google.generativeai as genai\n",
        "from google.colab import userdata\n",
        "import tempfile"
      ],
      "metadata": {
        "id": "KvP2NYToVD_Q"
      },
      "execution_count": 14,
      "outputs": []
    },
    {
      "cell_type": "markdown",
      "source": [
        "Carregando Key da api do Gemini"
      ],
      "metadata": {
        "id": "IY6T-_WVmTyu"
      }
    },
    {
      "cell_type": "code",
      "source": [
        "api_key = userdata.get(\"SECRET_KEY\")\n",
        "genai.configure(api_key=api_key)"
      ],
      "metadata": {
        "id": "Pt3UstCrVQDT"
      },
      "execution_count": 2,
      "outputs": []
    },
    {
      "cell_type": "markdown",
      "source": [
        "Setup dos modelos"
      ],
      "metadata": {
        "id": "5OdCV-hQnU2b"
      }
    },
    {
      "cell_type": "code",
      "source": [
        "\n",
        "# Set up the model\n",
        "generation_config_chat = {\n",
        "  \"temperature\": 0.5,\n",
        "  \"top_p\": 0.95,\n",
        "  \"top_k\": 0,\n",
        "  \"max_output_tokens\": 8192,\n",
        "}\n",
        "\n",
        "generation_config_structured = {\n",
        "  \"temperature\": 0.2,\n",
        "  \"top_p\": 0.95,\n",
        "  \"top_k\": 0,\n",
        "  \"max_output_tokens\": 8192,\n",
        "}\n",
        "\n",
        "safety_settings = [\n",
        "  {\n",
        "    \"category\": \"HARM_CATEGORY_HARASSMENT\",\n",
        "    \"threshold\": \"BLOCK_MEDIUM_AND_ABOVE\"\n",
        "  },\n",
        "  {\n",
        "    \"category\": \"HARM_CATEGORY_HATE_SPEECH\",\n",
        "    \"threshold\": \"BLOCK_MEDIUM_AND_ABOVE\"\n",
        "  },\n",
        "  {\n",
        "    \"category\": \"HARM_CATEGORY_SEXUALLY_EXPLICIT\",\n",
        "    \"threshold\": \"BLOCK_MEDIUM_AND_ABOVE\"\n",
        "  },\n",
        "  {\n",
        "    \"category\": \"HARM_CATEGORY_DANGEROUS_CONTENT\",\n",
        "    \"threshold\": \"BLOCK_MEDIUM_AND_ABOVE\"\n",
        "  },\n",
        "]\n",
        "\n",
        "model_chat = genai.GenerativeModel(model_name=\"gemini-1.5-pro-latest\",\n",
        "                              generation_config=generation_config_chat,\n",
        "                              safety_settings=safety_settings)\n",
        "model_structured = genai.GenerativeModel(model_name=\"gemini-1.5-pro-latest\",\n",
        "                              generation_config=generation_config_structured,\n",
        "                              safety_settings=safety_settings)"
      ],
      "metadata": {
        "id": "fm1qT6_KVhwl"
      },
      "execution_count": 3,
      "outputs": []
    },
    {
      "cell_type": "markdown",
      "source": [
        "Input das refeicoes que seram feitas durante a semana, em caso de nao querer registar uma refeicao ou nao for comer em casa, basta dar enter e passar para o proximo"
      ],
      "metadata": {
        "id": "pSFOk6Osnadu"
      }
    },
    {
      "cell_type": "code",
      "source": [
        "quantidadeDePessoas = input(\"Quantas pessoas vao comer?\")\n",
        "print(\"Segunda-feira\")\n",
        "segundaFeira = [input(\"Cafe da manha?\"),input(\"Almoco?\"),input(\"Janta?\")]\n",
        "print(\"Terca-feira\")\n",
        "tercaFeira = [input(\"Cafe da manha?\"),input(\"Almoco?\"),input(\"Janta?\")]\n",
        "print(\"Quarta-feira\")\n",
        "quartaFeira = [input(\"Cafe da manha?\"),input(\"Almoco?\"),input(\"Janta?\")]\n",
        "print(\"Quinta-feira\")\n",
        "quintaFeira = [input(\"Cafe da manha?\"),input(\"Almoco?\"),input(\"Janta?\")]\n",
        "print(\"Sexta-feira\")\n",
        "sextaFeira = [input(\"Cafe da manha?\"),input(\"Almoco?\"),input(\"Janta?\")]\n",
        "print(\"Sabado\")\n",
        "sabado = [input(\"Cafe da manha?\"),input(\"Almoco?\"),input(\"Janta?\")]\n",
        "print(\"Domingo\")\n",
        "domingo = [input(\"Cafe da manha?\"),input(\"Almoco?\"),input(\"Janta?\")]"
      ],
      "metadata": {
        "colab": {
          "base_uri": "https://localhost:8080/"
        },
        "id": "B5Nvm1rSWHkQ",
        "outputId": "a68a1c5d-70e7-4e90-be25-a1e1659d99a9"
      },
      "execution_count": 27,
      "outputs": [
        {
          "name": "stdout",
          "output_type": "stream",
          "text": [
            "Quantas pessoas vao comer?3\n",
            "Segunda-feira\n",
            "Cafe da manha?pao de queijo\n",
            "Almoco?strogonoff\n",
            "Janta?parmegiana\n",
            "Terca-feira\n",
            "Cafe da manha?pao com manteiga\n",
            "Almoco?\n",
            "Janta?\n",
            "Quarta-feira\n",
            "Cafe da manha?\n",
            "Almoco?\n",
            "Janta?macarrao alho e oleo\n",
            "Quinta-feira\n",
            "Cafe da manha?\n",
            "Almoco?\n",
            "Janta?\n",
            "Sexta-feira\n",
            "Cafe da manha?\n",
            "Almoco?\n",
            "Janta?\n",
            "Sabado\n",
            "Cafe da manha?\n",
            "Almoco?\n",
            "Janta?\n",
            "Domingo\n",
            "Cafe da manha?\n",
            "Almoco?\n",
            "Janta?\n"
          ]
        }
      ]
    },
    {
      "cell_type": "markdown",
      "source": [
        "Metodo auxliar para gerar query para o Gemini"
      ],
      "metadata": {
        "id": "6yf8zcoDnwZg"
      }
    },
    {
      "cell_type": "code",
      "source": [
        "def buildCardapioString(__dia,  __refeicoes):\n",
        "  cardapioString=__dia+\":\"\n",
        "  if __refeicoes[0] != \"\":\n",
        "    cardapioString += \"cafe da manha=\"+__refeicoes[0]+\";\"\n",
        "  if __refeicoes[1] != \"\":\n",
        "    cardapioString += \"almoco=\"+__refeicoes[1]+\";\"\n",
        "  if __refeicoes[2] != \"\":\n",
        "    cardapioString += \"janta=\"+__refeicoes[2]+\";\"\n",
        "  if cardapioString != __dia+\":\":\n",
        "    return cardapioString\n",
        "  else:\n",
        "    return \"\""
      ],
      "metadata": {
        "id": "ayXeTY0iZotj"
      },
      "execution_count": 28,
      "outputs": []
    },
    {
      "cell_type": "markdown",
      "source": [
        "Gerando a query para o Gemini"
      ],
      "metadata": {
        "id": "1fijLu4Qn3Og"
      }
    },
    {
      "cell_type": "code",
      "source": [
        "cardapio=\"\"\n",
        "cardapio += buildCardapioString(\"Segunda-feira\", segundaFeira)\n",
        "cardapio += buildCardapioString(\"Terca-feira\", tercaFeira)\n",
        "cardapio += buildCardapioString(\"Quarta-feira\", quartaFeira)\n",
        "cardapio += buildCardapioString(\"Quinta-feira\", quintaFeira)\n",
        "cardapio += buildCardapioString(\"Sexta-feira\", sextaFeira)\n",
        "cardapio += buildCardapioString(\"Sabado\", sabado)\n",
        "cardapio += buildCardapioString(\"Domingo\", domingo)\n",
        "cardapio"
      ],
      "metadata": {
        "id": "UZJ9HYwCYh1L",
        "colab": {
          "base_uri": "https://localhost:8080/",
          "height": 35
        },
        "outputId": "f9b1c87b-290a-404b-df5d-dd0f27b15207"
      },
      "execution_count": 31,
      "outputs": [
        {
          "output_type": "execute_result",
          "data": {
            "text/plain": [
              "'Segunda-feira:cafe da manha=pao de queijo;almoco=strogonoff;janta=parmegiana;Terca-feira:cafe da manha=pao com manteiga;Quarta-feira:janta=macarrao alho e oleo;'"
            ],
            "application/vnd.google.colaboratory.intrinsic+json": {
              "type": "string"
            }
          },
          "metadata": {},
          "execution_count": 31
        }
      ]
    },
    {
      "cell_type": "markdown",
      "source": [
        "Executando query de calculo da lista de compras"
      ],
      "metadata": {
        "id": "HgrZJMYWn9C7"
      }
    },
    {
      "cell_type": "code",
      "execution_count": 32,
      "metadata": {
        "id": "6sr5DGRUQ7z3",
        "colab": {
          "base_uri": "https://localhost:8080/",
          "height": 868
        },
        "outputId": "f0422965-53df-46bb-b640-35090b27a09f"
      },
      "outputs": [
        {
          "output_type": "stream",
          "name": "stdout",
          "text": [
            "## Lista de Compras para 3 pessoas:\n",
            "\n",
            "**Segunda-feira:**\n",
            "\n",
            "* **Café da manhã:**\n",
            "    * 1 pacote de pão de queijo (500g)\n",
            "* **Almoço (Strogonoff):**\n",
            "    * 500g de carne (filé mignon, alcatra ou frango)\n",
            "    * 1 cebola grande\n",
            "    * 2 dentes de alho\n",
            "    * 1 caixa de creme de leite\n",
            "    * 1 sachê de molho de tomate\n",
            "    * 1 vidro de champignon\n",
            "    * Azeite\n",
            "    * Sal e pimenta do reino a gosto\n",
            "    * Arroz (quantidade de acordo com a preferência)\n",
            "    * Batata palha (opcional)\n",
            "* **Janta (Parmegiana):**\n",
            "    * 4 bifes grandes (contrafilé ou filé mignon)\n",
            "    * 2 ovos\n",
            "    * Farinha de rosca\n",
            "    * Queijo mussarela fatiado\n",
            "    * Molho de tomate\n",
            "    * Queijo parmesão ralado\n",
            "    * Azeite\n",
            "    * Sal e pimenta do reino a gosto\n",
            "    * Arroz (quantidade de acordo com a preferência)\n",
            "\n",
            "**Terça-feira:**\n",
            "\n",
            "* **Café da manhã:**\n",
            "    * 1 pacote de pão francês (5 unidades)\n",
            "    * Manteiga\n",
            "\n",
            "**Quarta-feira:**\n",
            "\n",
            "* **Janta (Macarrão alho e óleo):**\n",
            "    * 500g de macarrão (espaguete ou penne)\n",
            "    * 4 dentes de alho\n",
            "    * Azeite\n",
            "    * Sal a gosto\n",
            "    * Pimenta do reino a gosto (opcional)\n",
            "    * Queijo parmesão ralado (opcional)\n",
            "\n",
            "**Observações:**\n",
            "\n",
            "* Esta lista é uma estimativa, ajuste as quantidades de acordo com a preferência e apetite de cada pessoa.\n",
            "* Verifique se você já possui alguns dos itens em casa, como sal, pimenta, azeite, etc.\n",
            "* Você pode complementar as refeições com saladas e outros acompanhamentos de sua preferência.\n"
          ]
        }
      ],
      "source": [
        "convo = model_chat.start_chat(history=[])\n",
        "\n",
        "convo.send_message( \"eu quero que voce me de em pt-BR a lista de compras necessarias para conseguir fazer o seguinte cardapio, para\"+\n",
        "        quantidadeDePessoas+\n",
        "        \" pessoas que comem normal, estime as quantidades\"+\n",
        "                    cardapio)\n",
        "print(convo.last.text)"
      ]
    },
    {
      "cell_type": "markdown",
      "source": [
        "Eu poderia ter tentado gerar a lista somente com o chat, mas eu quis testar o uso do \"Structured prompt\", entao aqui eu pego o output descritivo do chat e extraio somente a lista de items"
      ],
      "metadata": {
        "id": "goWwhRPHoHEi"
      }
    },
    {
      "cell_type": "code",
      "source": [
        "prompt_parts = [\n",
        "  \"retorne somente a lista enumerada\",\n",
        "  \"input: **Segunda-feira:**\\n\\n* **Pão francês:** 18 unidades (6 por pessoa)\\n* **Queijo minas frescal:** 500g\\n* **Berinjela:** 3 unidades médias\\n* **Molho de tomate:** 1 garrafa\\n* **Queijo muçarela:** 200g\\n* **Presunto:** 200g\\n* **Carne moída:** 500g\\n* **Macarrão para yakissoba:** 500g\\n* **Legumes para yakissoba (cenoura, brócolis, couve-flor, etc.):** a gosto\\n\\n**Terça-feira:**\\n\\n* **Pão francês:** 18 unidades (6 por pessoa)\\n* **Requeijão:** 1 pote grande\\n* **Ingredientes para pizza (massa pronta, molho de tomate, queijo muçarela, etc.):** a gosto\\n\\n**Itens Básicos (se necessário):**\\n\\n* **Óleo:** 1 litro\\n* **Azeite:** 250ml\\n* **Alho:** 1 cabeça\\n* **Cebola:** 1kg\\n* **Sal:** a gosto\\n* **Pimenta-do-reino:** a gosto\\n* **Temperos diversos:** a gosto (orégano, manjericão, etc.)\\n\\n**Observações:**\\n\\n* A quantidade de pão pode variar conforme o apetite de cada pessoa.\\n* Se você preferir fazer a massa da pizza em casa, inclua os ingredientes necessários na lista.\\n* Adapte a lista de acordo com suas preferências e necessidades. \\n\\n**Espero que essa lista de compras te ajude a preparar o cardápio da semana! Bom apetite!**\",\n",
        "  \"output: 1 - Pão francês: 18 unidades (6 por pessoa)\\n2 - Queijo minas frescal: 500g\\n3 - Berinjela: 3 unidades médias\\n4 - Molho de tomate: 1 garrafa\\n5 - Queijo muçarela: 200g\\n6 - Presunto: 200g\\n7 - Carne moída: 500g\\n8 - Macarrão para yakissoba: 500g\\n9 - Legumes para yakissoba (cenoura, brócolis, couve-flor, etc.): a gosto\\n10 - Pão francês: 18 unidades (6 por pessoa)\\n11 - Requeijão: 1 pote grande\\n12 - Ingredientes para pizza (massa pronta, molho de tomate, queijo muçarela, etc.): a gosto\\n13 - Óleo: 1 litro\\n14 - Azeite: 250ml\\n15 - Alho: 1 cabeça\\n16 - Cebola: 1kg\\n17 - Sal: a gosto\\n18 - Pimenta-do-reino: a gosto\\n19 - Temperos diversos: a gosto (orégano, manjericão, etc.)\",\n",
        "  \"input: ## Lista de compras para o cardápio (4 pessoas):\\n\\n**Segunda-feira:**\\n\\n*   **Café da manhã:**\\n    *   Cereal (escolha o tipo e a quantidade de acordo com a preferência, ex: 1 caixa de cereal de milho)\\n    *   Leite (1 litro) \\n*   **Jantar:**\\n    *   Macarrão (500g)\\n    *   Alho (1 cabeça)\\n    *   Óleo (a gosto)\\n    *   Queijo ralado (a gosto)\\n\\n**Terça-feira:**\\n\\n*   **Café da manhã:**\\n    *   Polvilho doce (500g)\\n    *   Queijo minas padrão ou meia cura ralado (200g)\\n    *   Ovos (2 unidades)\\n    *   Óleo (para untar)\\n    *   Leite (1/2 xícara)\\n*   **Almoço:**\\n    *   Filés de frango (4 unidades)\\n    *   Ovos (2 unidades)\\n    *   Farinha de trigo (1 xícara)\\n    *   Farinha de rosca (2 xícaras)\\n    *   Molho de tomate (1 sachê ou lata)\\n    *   Muçarela fatiada (200g)\\n    *   Queijo parmesão ralado (a gosto)\\n    *   Óleo (para fritar)\\n    *   Tempero a gosto (sal, pimenta, orégano) \\n\\n**Quarta-feira:**\\n\\n*   **Café da manhã:**\\n    *   Contrafilé (4 bifes)\\n    *   Ovos (4 unidades)\\n    *   Alho (a gosto)\\n    *   Óleo ou manteiga (para fritar)\\n    *   Tempero a gosto (sal e pimenta)\\n\\n**Sexta-feira:**\\n\\n*   **Jantar:**\\n    *   Massa para pastel (500g)\\n    *   Queijo muçarela ralado (300g)\\n    *   Óleo (para fritar)\\n\\n**Itens básicos (verifique se precisa repor):**\\n\\n*   Sal\\n*   Pimenta do reino\\n*   Azeite\\n*   Açúcar \\n*   Café \\n*   Frutas \\n\\n**Observações:**\\n\\n*   As quantidades são apenas sugestões e podem variar de acordo com o apetite e as preferências. \\n*   Verifique se possui os utensílios necessários para o preparo dos pratos (ex: panela, frigideira, etc).\\n*   Fique à vontade para adaptar o cardápio e a lista de compras conforme suas necessidades.\",\n",
        "  \"output: 1 - Cereal: escolha o tipo e a quantidade de acordo com a preferência, ex: 1 caixa de cereal de milho\\n2 - Leite: 1 litro\\n3 - Macarrão: 500g\\n4 - Alho: 1 cabeça\\n5 - Óleo: a gosto\\n6 - Queijo ralado: a gosto\\n7 - Polvilho doce: 500g\\n8 - Queijo minas padrão ou meia cura ralado: 200g\\n9 - Ovos: 2 unidades\\n10 - Óleo: para untar\\n11 - Leite: 1/2 xícara\\n12 - Filés de frango: 4 unidades\\n13 - Ovos: 2 unidades\\n14 - Farinha de trigo: 1 xícara\\n15 - Farinha de rosca: 2 xícaras\\n16 - Molho de tomate: 1 sachê ou lata\\n17 - Muçarela fatiada: 200g\\n18 - Queijo parmesão ralado: a gosto\\n19 - Óleo: para fritar\\n20 - Tempero a gosto: sal, pimenta, orégano\\n21 - Contrafilé: 4 bifes\\n22 - Ovos: 4 unidades\\n23 - Alho: a gosto\\n24 - Óleo ou manteiga: para fritar\\n25 - Tempero a gosto: sal e pimenta\\n26 - Massa para pastel: 500g\\n27 - Queijo muçarela ralado: 300g\\n28 - Óleo: para fritar\\n29 - Sal\\n30 - Pimenta do reino\\n31 - Azeite\\n32 - Açúcar \\n33 - Café \\n34 - Frutas\",\n",
        "  \"input: \" + convo.last.text,\n",
        "  \"output: \",\n",
        "]"
      ],
      "metadata": {
        "id": "gV82Z2ApQuk7"
      },
      "execution_count": 33,
      "outputs": []
    },
    {
      "cell_type": "markdown",
      "source": [
        "Executando o modelo, com output somente da lista de compras"
      ],
      "metadata": {
        "id": "nVQ03Z37oi1W"
      }
    },
    {
      "cell_type": "code",
      "source": [
        "response = model_structured.generate_content(prompt_parts)\n",
        "print(response.text)"
      ],
      "metadata": {
        "id": "eaeOZRxdKHMe",
        "colab": {
          "base_uri": "https://localhost:8080/",
          "height": 520
        },
        "outputId": "0f240b50-8b9d-4569-c1eb-414b49bfc34c"
      },
      "execution_count": 34,
      "outputs": [
        {
          "output_type": "stream",
          "name": "stdout",
          "text": [
            "1 - Pacote de pão de queijo (500g)\n",
            "2 - Carne (filé mignon, alcatra ou frango): 500g\n",
            "3 - Cebola grande: 1 unidade\n",
            "4 - Alho: 2 dentes\n",
            "5 - Caixa de creme de leite: 1 unidade\n",
            "6 - Sachê de molho de tomate: 1 unidade\n",
            "7 - Vidro de champignon: 1 unidade\n",
            "8 - Azeite\n",
            "9 - Sal e pimenta do reino a gosto\n",
            "10 - Arroz: quantidade de acordo com a preferência\n",
            "11 - Batata palha: opcional\n",
            "12 - Bifes grandes (contrafilé ou filé mignon): 4 unidades\n",
            "13 - Ovos: 2 unidades\n",
            "14 - Farinha de rosca\n",
            "15 - Queijo mussarela fatiado\n",
            "16 - Molho de tomate\n",
            "17 - Queijo parmesão ralado\n",
            "18 - Azeite\n",
            "19 - Sal e pimenta do reino a gosto\n",
            "20 - Arroz: quantidade de acordo com a preferência\n",
            "21 - Pacote de pão francês: 5 unidades\n",
            "22 - Manteiga\n",
            "23 - Macarrão (espaguete ou penne): 500g\n",
            "24 - Alho: 4 dentes\n",
            "25 - Azeite\n",
            "26 - Sal a gosto\n",
            "27 - Pimenta do reino a gosto: opcional\n",
            "28 - Queijo parmesão ralado: opcional \n",
            "\n"
          ]
        }
      ]
    },
    {
      "cell_type": "markdown",
      "source": [
        "Possibilidade de carregar imagens de items que voce possui em casa, para eliminar da lista de compras"
      ],
      "metadata": {
        "id": "GlFpu5avopQr"
      }
    },
    {
      "cell_type": "code",
      "source": [
        "uploader = FileUpload()\n",
        "print(\"Faca upload das imagens dos items que voce tem disponiveis (geladeira, armario, dispensa, etc...)\")\n",
        "display(uploader)"
      ],
      "metadata": {
        "colab": {
          "base_uri": "https://localhost:8080/",
          "height": 66,
          "referenced_widgets": [
            "ac0eeecee5e845fdb2c77aff43218be3",
            "6f0fa91b5e5146b78dd7e51676e6fefc",
            "7a57270150584be9afd9d0037ddee354"
          ]
        },
        "id": "H1F8mJSfSBLa",
        "outputId": "17c057a3-86a9-4edc-dca1-bd8622fff3cf"
      },
      "execution_count": 41,
      "outputs": [
        {
          "output_type": "stream",
          "name": "stdout",
          "text": [
            "Faca upload das imagens dos items que voce tem disponiveis (geladeira, armario, dispensa, etc...)\n"
          ]
        },
        {
          "output_type": "display_data",
          "data": {
            "text/plain": [
              "FileUpload(value={}, description='Upload')"
            ],
            "application/vnd.jupyter.widget-view+json": {
              "version_major": 2,
              "version_minor": 0,
              "model_id": "ac0eeecee5e845fdb2c77aff43218be3"
            }
          },
          "metadata": {}
        }
      ]
    },
    {
      "cell_type": "markdown",
      "source": [
        "Metodo auxiliar para carregar os bytes dos arquivos no modelo do Gemini"
      ],
      "metadata": {
        "id": "wuDT7TYuqspK"
      }
    },
    {
      "cell_type": "code",
      "source": [
        "def save_bytes_as_file(bytes_data, filename=None):\n",
        "  with tempfile.NamedTemporaryFile(delete=False, suffix=filename) as temp_file:\n",
        "    temp_file.write(bytes_data)\n",
        "    return temp_file.name"
      ],
      "metadata": {
        "id": "CQ7RR8ywimok"
      },
      "execution_count": 50,
      "outputs": []
    },
    {
      "cell_type": "markdown",
      "source": [
        "Carregando os bytes dos arquivos no modelo do Gemini"
      ],
      "metadata": {
        "id": "znQi8oPgq0XN"
      }
    },
    {
      "cell_type": "code",
      "source": [
        "uploaded_file_data_list = uploader.data\n",
        "filesUploadedTemp = []\n",
        "for uploaded_file_data in uploaded_file_data_list:\n",
        "  filesUploadedTemp.append(genai.upload_file(save_bytes_as_file(uploaded_file_data,\"file.jpg\")))\n"
      ],
      "metadata": {
        "id": "SIXk0CBLiq9m"
      },
      "execution_count": 51,
      "outputs": []
    },
    {
      "cell_type": "markdown",
      "source": [
        "Executando o modelo para extrair os items das imagens\n",
        "  "
      ],
      "metadata": {
        "id": "aVtegwa9rwYo"
      }
    },
    {
      "cell_type": "code",
      "source": [
        "itemsAtHome = \"\"\n",
        "if len(filesUploadedTemp)>0:\n",
        "  convoImage = model_chat.start_chat(history=[])\n",
        "  message = filesUploadedTemp+[\"extraia da imagem uma tabela com nome do item, quantidade e quantidade de conteudo , so retorne a tabela\"]\n",
        "  convoImage.send_message(message)\n",
        "  itemsAtHome = convoImage.last.text\n",
        "  print(itemsAtHome)"
      ],
      "metadata": {
        "colab": {
          "base_uri": "https://localhost:8080/",
          "height": 208
        },
        "id": "TdeROYUxXuOI",
        "outputId": "91330448-b50a-4144-ad3d-1712f970ad4e"
      },
      "execution_count": 52,
      "outputs": [
        {
          "output_type": "stream",
          "name": "stdout",
          "text": [
            "| Item | Quantidade | Quantidade de Conteúdo |\n",
            "|---|---|---|\n",
            "| Trancil | 1 caixa | 20 mg |\n",
            "| St Dalfour | 1 pote | 284g |\n",
            "| Vitaminas B | 1 lata |  |\n",
            "| Heinz Tomato Ketchup | 1 frasco |  |\n",
            "| Aurora Azeite Extra Virgem | 1 garrafa |  |\n",
            "| Paçlu | 1 pote |  |\n",
            "| Leite | 1 caixa |  |\n",
            "| Shoyu | 1 garrafa |  | \n",
            "\n"
          ]
        }
      ]
    },
    {
      "cell_type": "markdown",
      "source": [
        "Executando o modelo para gerar a lista final de compras"
      ],
      "metadata": {
        "id": "dLthiUJ3r5hE"
      }
    },
    {
      "cell_type": "code",
      "source": [
        "convo = model_chat.start_chat(history=[])\n",
        "finalList = \"\"\n",
        "if itemsAtHome == \"\":\n",
        "  finalList = response.text\n",
        "else:\n",
        "  convo.send_message([\"se eu tenho a seguinte lista de compras\",response.text,\"mas ja tenho os items\",itemsAtHome,\"qual a minha lista final de compras?\", \"retorne somente a lista\"])\n",
        "  finalList = convo.last.text\n",
        "print(finalList)"
      ],
      "metadata": {
        "id": "WpVXfDHpWXCe",
        "colab": {
          "base_uri": "https://localhost:8080/",
          "height": 347
        },
        "outputId": "37b340e0-72fb-4866-d797-8cdd90317aed"
      },
      "execution_count": 53,
      "outputs": [
        {
          "output_type": "stream",
          "name": "stdout",
          "text": [
            "1. Pacote de pão de queijo (500g)\n",
            "2. Carne (filé mignon, alcatra ou frango): 500g\n",
            "3. Cebola grande: 1 unidade\n",
            "4. Alho: 6 dentes \n",
            "5. Caixa de creme de leite: 1 unidade\n",
            "6. Sachê de molho de tomate: 2 unidades \n",
            "7. Vidro de champignon: 1 unidade\n",
            "8. Sal e pimenta do reino a gosto\n",
            "9. Arroz: quantidade de acordo com a preferência\n",
            "10. Batata palha: opcional\n",
            "11. Bifes grandes (contrafilé ou filé mignon): 4 unidades\n",
            "12. Ovos: 2 unidades\n",
            "13. Farinha de rosca\n",
            "14. Queijo mussarela fatiado\n",
            "15. Queijo parmesão ralado\n",
            "16. Pacote de pão francês: 5 unidades\n",
            "17. Manteiga\n",
            "18. Macarrão (espaguete ou penne): 500g \n",
            "\n"
          ]
        }
      ]
    }
  ]
}